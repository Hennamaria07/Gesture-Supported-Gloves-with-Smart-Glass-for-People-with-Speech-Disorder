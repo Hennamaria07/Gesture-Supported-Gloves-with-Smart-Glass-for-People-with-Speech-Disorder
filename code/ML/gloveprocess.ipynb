{
 "cells": [
  {
   "cell_type": "code",
   "execution_count": 6,
   "metadata": {},
   "outputs": [],
   "source": [
    "import numpy as np\n",
    "from sklearn import linear_model\n",
    "import pandas as pd\n",
    "\n",
    "\n",
    "from sklearn.linear_model import LinearRegression, Ridge, Lasso\n",
    "from sklearn.neighbors import KNeighborsRegressor\n",
    "from sklearn.neural_network import MLPRegressor\n",
    "from sklearn.svm import LinearSVR, SVR\n",
    "from sklearn.tree import DecisionTreeRegressor\n",
    "from sklearn.ensemble import RandomForestRegressor, GradientBoostingRegressor\n",
    "from xgboost import XGBRegressor\n",
    "from lightgbm import LGBMRegressor\n",
    "from catboost import CatBoostRegressor\n"
   ]
  },
  {
   "cell_type": "code",
   "execution_count": 7,
   "metadata": {},
   "outputs": [],
   "source": [
    "data_frame = pd.read_csv(\"GlovesDataNew.csv\")\n",
    "# data_frame\n",
    "data_frame:[] = data_frame.drop(['Unnamed: 6'], axis=1)\n",
    "data_frame = pd.DataFrame(data_frame)"
   ]
  },
  {
   "cell_type": "code",
   "execution_count": 8,
   "metadata": {},
   "outputs": [],
   "source": [
    "\n",
    "# shuffle the DataFrame rows\n",
    "shuffledData = data_frame.sample(frac = 1)\n",
    "# shuffledData = data_frame"
   ]
  },
  {
   "cell_type": "code",
   "execution_count": 9,
   "metadata": {},
   "outputs": [
    {
     "name": "stdout",
     "output_type": "stream",
     "text": [
      "2404\n",
      "268\n"
     ]
    },
    {
     "data": {
      "text/html": [
       "<div>\n",
       "<style scoped>\n",
       "    .dataframe tbody tr th:only-of-type {\n",
       "        vertical-align: middle;\n",
       "    }\n",
       "\n",
       "    .dataframe tbody tr th {\n",
       "        vertical-align: top;\n",
       "    }\n",
       "\n",
       "    .dataframe thead th {\n",
       "        text-align: right;\n",
       "    }\n",
       "</style>\n",
       "<table border=\"1\" class=\"dataframe\">\n",
       "  <thead>\n",
       "    <tr style=\"text-align: right;\">\n",
       "      <th></th>\n",
       "      <th>Thumb</th>\n",
       "      <th>Index</th>\n",
       "      <th>Middle</th>\n",
       "      <th>Ring</th>\n",
       "      <th>Pinky</th>\n",
       "      <th>Letter</th>\n",
       "    </tr>\n",
       "  </thead>\n",
       "  <tbody>\n",
       "    <tr>\n",
       "      <th>979</th>\n",
       "      <td>2221</td>\n",
       "      <td>1631</td>\n",
       "      <td>2204</td>\n",
       "      <td>1921</td>\n",
       "      <td>1733</td>\n",
       "      <td>10</td>\n",
       "    </tr>\n",
       "    <tr>\n",
       "      <th>831</th>\n",
       "      <td>2210</td>\n",
       "      <td>2097</td>\n",
       "      <td>1424</td>\n",
       "      <td>1072</td>\n",
       "      <td>1431</td>\n",
       "      <td>8</td>\n",
       "    </tr>\n",
       "    <tr>\n",
       "      <th>43</th>\n",
       "      <td>2158</td>\n",
       "      <td>2073</td>\n",
       "      <td>2146</td>\n",
       "      <td>1853</td>\n",
       "      <td>1987</td>\n",
       "      <td>0</td>\n",
       "    </tr>\n",
       "    <tr>\n",
       "      <th>1541</th>\n",
       "      <td>2267</td>\n",
       "      <td>1675</td>\n",
       "      <td>1457</td>\n",
       "      <td>1187</td>\n",
       "      <td>1507</td>\n",
       "      <td>16</td>\n",
       "    </tr>\n",
       "    <tr>\n",
       "      <th>867</th>\n",
       "      <td>2176</td>\n",
       "      <td>1547</td>\n",
       "      <td>2224</td>\n",
       "      <td>1891</td>\n",
       "      <td>2110</td>\n",
       "      <td>9</td>\n",
       "    </tr>\n",
       "    <tr>\n",
       "      <th>...</th>\n",
       "      <td>...</td>\n",
       "      <td>...</td>\n",
       "      <td>...</td>\n",
       "      <td>...</td>\n",
       "      <td>...</td>\n",
       "      <td>...</td>\n",
       "    </tr>\n",
       "    <tr>\n",
       "      <th>1398</th>\n",
       "      <td>2325</td>\n",
       "      <td>1712</td>\n",
       "      <td>1607</td>\n",
       "      <td>1264</td>\n",
       "      <td>2154</td>\n",
       "      <td>15</td>\n",
       "    </tr>\n",
       "    <tr>\n",
       "      <th>1495</th>\n",
       "      <td>2211</td>\n",
       "      <td>1574</td>\n",
       "      <td>1456</td>\n",
       "      <td>1141</td>\n",
       "      <td>1444</td>\n",
       "      <td>16</td>\n",
       "    </tr>\n",
       "    <tr>\n",
       "      <th>1347</th>\n",
       "      <td>2309</td>\n",
       "      <td>1617</td>\n",
       "      <td>1485</td>\n",
       "      <td>2073</td>\n",
       "      <td>1626</td>\n",
       "      <td>14</td>\n",
       "    </tr>\n",
       "    <tr>\n",
       "      <th>1538</th>\n",
       "      <td>2256</td>\n",
       "      <td>1639</td>\n",
       "      <td>1471</td>\n",
       "      <td>1165</td>\n",
       "      <td>1479</td>\n",
       "      <td>16</td>\n",
       "    </tr>\n",
       "    <tr>\n",
       "      <th>153</th>\n",
       "      <td>1623</td>\n",
       "      <td>1570</td>\n",
       "      <td>1503</td>\n",
       "      <td>1261</td>\n",
       "      <td>1498</td>\n",
       "      <td>1</td>\n",
       "    </tr>\n",
       "  </tbody>\n",
       "</table>\n",
       "<p>268 rows × 6 columns</p>\n",
       "</div>"
      ],
      "text/plain": [
       "      Thumb  Index  Middle  Ring  Pinky  Letter\n",
       "979    2221   1631    2204  1921   1733      10\n",
       "831    2210   2097    1424  1072   1431       8\n",
       "43     2158   2073    2146  1853   1987       0\n",
       "1541   2267   1675    1457  1187   1507      16\n",
       "867    2176   1547    2224  1891   2110       9\n",
       "...     ...    ...     ...   ...    ...     ...\n",
       "1398   2325   1712    1607  1264   2154      15\n",
       "1495   2211   1574    1456  1141   1444      16\n",
       "1347   2309   1617    1485  2073   1626      14\n",
       "1538   2256   1639    1471  1165   1479      16\n",
       "153    1623   1570    1503  1261   1498       1\n",
       "\n",
       "[268 rows x 6 columns]"
      ]
     },
     "execution_count": 9,
     "metadata": {},
     "output_type": "execute_result"
    }
   ],
   "source": [
    "from sklearn.model_selection import train_test_split\n",
    "train, test = train_test_split(shuffledData, test_size=0.1)\n",
    "print (len(train) )\n",
    "print (len(test) )\n",
    "test"
   ]
  },
  {
   "cell_type": "code",
   "execution_count": 10,
   "metadata": {},
   "outputs": [
    {
     "name": "stdout",
     "output_type": "stream",
     "text": [
      "                   K-Nearest Neighbors trained.\n",
      "                         Decision Tree trained.\n",
      "                         Random Forest trained.\n"
     ]
    }
   ],
   "source": [
    "#training \n",
    "\n",
    "# reg_learn = linear_model.LinearRegression()\n",
    "# reg_learn.fit( train[['layer_height','wall_thickness','infill_density','infill_pattern','nozzle_temperature','bed_temperature','print_speed','material','fan_speed','tension_strenght','elongation']] , train.roughness )   \n",
    "\n",
    "\n",
    "# Thumb\tIndex\tMiddle\tRing\tPinky\tLetter\n",
    "#TRAINING\n",
    "models = {\n",
    "    # \"                     Linear Regression\": LinearRegression(),\n",
    "    # \" Linear Regression (L2 Regularization)\": Ridge(),\n",
    "    # \" Linear Regression (L1 Regularization)\": Lasso(),\n",
    "    \"                   K-Nearest Neighbors\": KNeighborsRegressor(),\n",
    "    # \"                        Neural Network\": MLPRegressor(),\n",
    "    # \"Support Vector Machine (Linear Kernel)\": LinearSVR(),\n",
    "    # \"   Support Vector Machine (RBF Kernel)\": SVR(),\n",
    "    \"                         Decision Tree\": DecisionTreeRegressor(),\n",
    "    \"                         Random Forest\": RandomForestRegressor(),\n",
    "    # \"                     Gradient Boosting\": GradientBoostingRegressor(),\n",
    "    # \"                              LightGBM\": LGBMRegressor(),\n",
    "    # \"                              CatBoost\": CatBoostRegressor(verbose=0)\n",
    "}\n",
    "\n",
    "for name, model in models.items():\n",
    "    model.fit( train[['Thumb','Index','Middle','Ring','Pinky']].values , train.Letter )   \n",
    "    \n",
    "    print(name + \" trained.\")\n",
    "\n"
   ]
  },
  {
   "cell_type": "code",
   "execution_count": 17,
   "metadata": {},
   "outputs": [
    {
     "name": "stdout",
     "output_type": "stream",
     "text": [
      "KNeighborsRegressor()  : predicted :  [10.]\n",
      "original :  289\n",
      "____________________\n",
      "DecisionTreeRegressor()  : predicted :  [10.]\n",
      "original :  289\n",
      "____________________\n",
      "RandomForestRegressor()  : predicted :  [10.]\n",
      "original :  289\n",
      "____________________\n"
     ]
    }
   ],
   "source": [
    "for name, model in models.items():\n",
    "    print(model, \" : predicted : \",  model.predict([\n",
    "        [2221,1631,2204,1921,1733]\n",
    "        ]) )\n",
    "    print(\"original : \" ,289  )\n",
    "    print(\"____________________\")\n",
    "    \n",
    "    # 1407\t3203\t3721\t2607\t2357\t3646\t23\n",
    "# 3294\t2992\t2672\t2120\t2310\t\n",
    "# 3795\t2800\t4032\t2288\t3558\t11\n",
    "# LinearRegression()  : predicted :  [266.17369594]\n",
    "# original :  289 \n",
    "\n",
    "# RandomForestRegressor()  : predicted :  [276.78]\n",
    "# original :  289\n",
    "\n",
    "# LGBMRegressor()  : predicted :  [270.69687168]\n",
    "# original :  289\n",
    "\n",
    "# <catboost.core.CatBoostRegressor object at 0x7f3805f24208>  : predicted :  [269.60421542]\n",
    "# original :  289\n"
   ]
  },
  {
   "cell_type": "code",
   "execution_count": 12,
   "metadata": {},
   "outputs": [
    {
     "name": "stdout",
     "output_type": "stream",
     "text": [
      "Model name : KNeighborsRegressor() Accuracy =  0.9999976816248004\n",
      "Model name : DecisionTreeRegressor() Accuracy =  0.9851623987224715\n",
      "Model name : RandomForestRegressor() Accuracy =  0.9896206863947709\n"
     ]
    },
    {
     "name": "stderr",
     "output_type": "stream",
     "text": [
      "/home/sree/.local/lib/python3.8/site-packages/sklearn/base.py:413: UserWarning: X has feature names, but KNeighborsRegressor was fitted without feature names\n",
      "  warnings.warn(\n",
      "/home/sree/.local/lib/python3.8/site-packages/sklearn/base.py:413: UserWarning: X has feature names, but DecisionTreeRegressor was fitted without feature names\n",
      "  warnings.warn(\n",
      "/home/sree/.local/lib/python3.8/site-packages/sklearn/base.py:413: UserWarning: X has feature names, but RandomForestRegressor was fitted without feature names\n",
      "  warnings.warn(\n"
     ]
    }
   ],
   "source": [
    "from sklearn import metrics\n",
    "\n",
    "for name, model in models.items():\n",
    "    predictions = model.predict(test.loc[:, test.columns!='Letter']) \n",
    "    # print(name,\" : \", predictions)\n",
    "    print('Model name :', model ,'Accuracy = ', metrics.r2_score(test.Letter, predictions))\n",
    "    # print(model, \" : predicted : \",  model.accuracy_score([\n",
    "    #     [3203,3721,2607,2357,3646]\n",
    "    #     ]) )\n",
    "    # print(\"original : \" ,289  )\n",
    "    # print(\"____________________\")\n",
    "    "
   ]
  },
  {
   "attachments": {},
   "cell_type": "markdown",
   "metadata": {},
   "source": [
    "# Save Models \n",
    "we save the models locally on the pc to load it later \n"
   ]
  },
  {
   "cell_type": "code",
   "execution_count": 13,
   "metadata": {},
   "outputs": [
    {
     "name": "stdout",
     "output_type": "stream",
     "text": [
      "                   K-Nearest Neighbors saved.\n",
      "                         Decision Tree saved.\n",
      "                         Random Forest saved.\n"
     ]
    }
   ],
   "source": [
    "# save models\n",
    "import pickle\n",
    "for name, model in models.items():\n",
    "    Pkl_Filename = name.replace(\" \", \"\")+\".pkl\"  \n",
    "    with open(Pkl_Filename, 'wb') as file:  \n",
    "        pickle.dump(model, file)\n",
    "    print(name + \" saved.\")"
   ]
  },
  {
   "attachments": {},
   "cell_type": "markdown",
   "metadata": {},
   "source": [
    "# Load Saved Models\n",
    "here we read the saved model files "
   ]
  },
  {
   "cell_type": "code",
   "execution_count": 14,
   "metadata": {},
   "outputs": [
    {
     "name": "stdout",
     "output_type": "stream",
     "text": [
      "models loaded\n"
     ]
    }
   ],
   "source": [
    "# Load Model\n",
    "# DecisionTree\n",
    "with open('DecisionTree.pkl', 'rb') as file:  \n",
    "    DecisionTree = pickle.load(file)\n",
    "DecisionTree\n",
    "\n",
    "with open('K-NearestNeighbors.pkl', 'rb') as file:  \n",
    "    KNearestNeighbors = pickle.load(file)\n",
    "KNearestNeighbors\n",
    "\n",
    "with open('RandomForest.pkl', 'rb') as file:  \n",
    "    RandomForest = pickle.load(file)\n",
    "RandomForest\n",
    "\n",
    "print (\"models loaded\")"
   ]
  },
  {
   "cell_type": "code",
   "execution_count": 15,
   "metadata": {},
   "outputs": [
    {
     "name": "stdout",
     "output_type": "stream",
     "text": [
      "DecisionTreeRegressor()  : predicted :  [0.]\n",
      "KNeighborsRegressor()  : predicted :  [0.]\n",
      "RandomForestRegressor()  : predicted :  [0.]\n"
     ]
    }
   ],
   "source": [
    "# Predict using the loaded model\n",
    "\n",
    "print(DecisionTree, \" : predicted : \",  DecisionTree.predict([\n",
    "        [3203,3721,2607,2357,3646]\n",
    "        ]) )\n",
    "\n",
    "# Predict using the loaded model\n",
    "\n",
    "print(KNearestNeighbors, \" : predicted : \",  KNearestNeighbors.predict([\n",
    "        [3203,3721,2607,2357,3646]\n",
    "        ]) )\n",
    "\n",
    "# Predict using the loaded model\n",
    "\n",
    "print(RandomForest, \" : predicted : \",  RandomForest.predict([\n",
    "        [3203,3721,2607,2357,3646]\n",
    "        ]) )"
   ]
  },
  {
   "cell_type": "markdown",
   "metadata": {},
   "source": []
  },
  {
   "cell_type": "markdown",
   "metadata": {},
   "source": []
  },
  {
   "cell_type": "markdown",
   "metadata": {},
   "source": []
  }
 ],
 "metadata": {
  "kernelspec": {
   "display_name": "Python 3",
   "language": "python",
   "name": "python3"
  },
  "language_info": {
   "codemirror_mode": {
    "name": "ipython",
    "version": 3
   },
   "file_extension": ".py",
   "mimetype": "text/x-python",
   "name": "python",
   "nbconvert_exporter": "python",
   "pygments_lexer": "ipython3",
   "version": "3.8.10 (default, Mar 13 2023, 10:26:41) \n[GCC 9.4.0]"
  },
  "orig_nbformat": 4,
  "vscode": {
   "interpreter": {
    "hash": "916dbcbb3f70747c44a77c7bcd40155683ae19c65e1c03b4aa3499c5328201f1"
   }
  }
 },
 "nbformat": 4,
 "nbformat_minor": 2
}
